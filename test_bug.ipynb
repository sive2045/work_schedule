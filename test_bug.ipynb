{
 "cells": [
  {
   "cell_type": "code",
   "execution_count": 1,
   "metadata": {},
   "outputs": [],
   "source": [
    "import pandas as pd\n",
    "import sqlite3\n",
    "from src.utils import *\n",
    "import datetime as dt"
   ]
  },
  {
   "cell_type": "code",
   "execution_count": 5,
   "metadata": {},
   "outputs": [],
   "source": [
    "date = dt.datetime.now()\n",
    "\n",
    "connect_db = sqlite3.connect(dir_local_db)\n",
    "    \n",
    "cur = connect_db.cursor()\n",
    "\n",
    "cur.execute(\"SELECT * FROM todo_data WHERE TodoDate = :date\",\n",
    "    {\"date\": date.date()}\n",
    ")\n",
    "\n",
    "rows = cur.fetchall()\n",
    "\n",
    "cols = [column[0] for column in cur.description]\n",
    "\n",
    "todo_data = pd.DataFrame.from_records(data=rows, columns=cols).to_numpy()\n",
    "\n",
    "connect_db.close()"
   ]
  },
  {
   "cell_type": "code",
   "execution_count": null,
   "metadata": {},
   "outputs": [],
   "source": []
  }
 ],
 "metadata": {
  "kernelspec": {
   "display_name": "Python 3.8.15 ('WORK')",
   "language": "python",
   "name": "python3"
  },
  "language_info": {
   "codemirror_mode": {
    "name": "ipython",
    "version": 3
   },
   "file_extension": ".py",
   "mimetype": "text/x-python",
   "name": "python",
   "nbconvert_exporter": "python",
   "pygments_lexer": "ipython3",
   "version": "3.8.15"
  },
  "orig_nbformat": 4,
  "vscode": {
   "interpreter": {
    "hash": "ad78ce0b1ddd4c9c884f1fc19f4052607fc2d691938d929d135def07d2021876"
   }
  }
 },
 "nbformat": 4,
 "nbformat_minor": 2
}
