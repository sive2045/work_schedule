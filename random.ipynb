{
 "cells": [
  {
   "cell_type": "code",
   "execution_count": 1,
   "metadata": {},
   "outputs": [],
   "source": [
    "import numpy as np"
   ]
  },
  {
   "cell_type": "code",
   "execution_count": 11,
   "metadata": {},
   "outputs": [
    {
     "name": "stdout",
     "output_type": "stream",
     "text": [
      "ktx 탑승자: ['이영경' '박지훈' '이상철']\n"
     ]
    }
   ],
   "source": [
    "name = [\"김규림\", \"박지훈\", \"신예진\", \"이상철\", \"이영경\", \"최희주\"]\n",
    "\n",
    "ktx = np.random.choice(name, size=3, replace=False)\n",
    "print(f\"ktx 탑승자: {ktx}\")"
   ]
  },
  {
   "cell_type": "code",
   "execution_count": null,
   "metadata": {},
   "outputs": [],
   "source": []
  }
 ],
 "metadata": {
  "kernelspec": {
   "display_name": "Python 3.8.15 ('WORK')",
   "language": "python",
   "name": "python3"
  },
  "language_info": {
   "codemirror_mode": {
    "name": "ipython",
    "version": 3
   },
   "file_extension": ".py",
   "mimetype": "text/x-python",
   "name": "python",
   "nbconvert_exporter": "python",
   "pygments_lexer": "ipython3",
   "version": "3.8.15"
  },
  "orig_nbformat": 4,
  "vscode": {
   "interpreter": {
    "hash": "ad78ce0b1ddd4c9c884f1fc19f4052607fc2d691938d929d135def07d2021876"
   }
  }
 },
 "nbformat": 4,
 "nbformat_minor": 2
}
