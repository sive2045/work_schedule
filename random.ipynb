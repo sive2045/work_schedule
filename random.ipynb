{
 "cells": [
  {
   "cell_type": "code",
   "execution_count": 3,
   "metadata": {},
   "outputs": [],
   "source": [
    "import pandas as pd\n",
    "import sqlite3"
   ]
  },
  {
   "cell_type": "code",
   "execution_count": 7,
   "metadata": {},
   "outputs": [
    {
     "name": "stdout",
     "output_type": "stream",
     "text": [
      "2023-01-14\n"
     ]
    }
   ],
   "source": [
    "from datetime import datetime\n",
    "\n",
    "today = datetime.today().date()\n",
    "print(today)"
   ]
  },
  {
   "cell_type": "code",
   "execution_count": 9,
   "metadata": {},
   "outputs": [
    {
     "data": {
      "text/html": [
       "<div>\n",
       "<style scoped>\n",
       "    .dataframe tbody tr th:only-of-type {\n",
       "        vertical-align: middle;\n",
       "    }\n",
       "\n",
       "    .dataframe tbody tr th {\n",
       "        vertical-align: top;\n",
       "    }\n",
       "\n",
       "    .dataframe thead th {\n",
       "        text-align: right;\n",
       "    }\n",
       "</style>\n",
       "<table border=\"1\" class=\"dataframe\">\n",
       "  <thead>\n",
       "    <tr style=\"text-align: right;\">\n",
       "      <th></th>\n",
       "      <th>id</th>\n",
       "      <th>Memo</th>\n",
       "      <th>GoalTime</th>\n",
       "      <th>WorkDate</th>\n",
       "      <th>StartTime</th>\n",
       "      <th>EndTime</th>\n",
       "    </tr>\n",
       "  </thead>\n",
       "  <tbody>\n",
       "    <tr>\n",
       "      <th>0</th>\n",
       "      <td>1</td>\n",
       "      <td>memo1</td>\n",
       "      <td>5</td>\n",
       "      <td>2023-01-14</td>\n",
       "      <td>12:00:00</td>\n",
       "      <td>15:15:12</td>\n",
       "    </tr>\n",
       "    <tr>\n",
       "      <th>1</th>\n",
       "      <td>2</td>\n",
       "      <td>memo2</td>\n",
       "      <td>5</td>\n",
       "      <td>2023-01-14</td>\n",
       "      <td>12:00:00</td>\n",
       "      <td>15:15:12</td>\n",
       "    </tr>\n",
       "    <tr>\n",
       "      <th>2</th>\n",
       "      <td>3</td>\n",
       "      <td>memo3</td>\n",
       "      <td>5</td>\n",
       "      <td>2023-01-14</td>\n",
       "      <td>12:00:00</td>\n",
       "      <td>15:15:12</td>\n",
       "    </tr>\n",
       "  </tbody>\n",
       "</table>\n",
       "</div>"
      ],
      "text/plain": [
       "   id   Memo  GoalTime    WorkDate StartTime   EndTime\n",
       "0   1  memo1         5  2023-01-14  12:00:00  15:15:12\n",
       "1   2  memo2         5  2023-01-14  12:00:00  15:15:12\n",
       "2   3  memo3         5  2023-01-14  12:00:00  15:15:12"
      ]
     },
     "execution_count": 9,
     "metadata": {},
     "output_type": "execute_result"
    }
   ],
   "source": [
    "conn = sqlite3.connect(\"db/test.db\")\n",
    "cur = conn.cursor()\n",
    "cur.execute(f\"SELECT * FROM work_time_data WHRER work_time_data.WorkDate ==  {today}\")\n",
    "\n",
    "rows = cur.fetchall()\n",
    "\n",
    "cols = [column[0] for column in cur.description]\n",
    "\n",
    "data_df = pd.DataFrame.from_records(data=rows, columns=cols)\n",
    "\n",
    "conn.close()\n",
    "\n",
    "data_df"
   ]
  },
  {
   "cell_type": "code",
   "execution_count": 15,
   "metadata": {},
   "outputs": [
    {
     "data": {
      "text/plain": [
       "array([[1, 'memo1', 5, '2023-01-14', '12:00:00', '15:15:12'],\n",
       "       [2, 'memo2', 5, '2023-01-14', '12:00:00', '15:15:12'],\n",
       "       [3, 'memo3', 5, '2023-01-14', '12:00:00', '15:15:12']],\n",
       "      dtype=object)"
      ]
     },
     "execution_count": 15,
     "metadata": {},
     "output_type": "execute_result"
    }
   ],
   "source": [
    "datas = data_df[data_df['WorkDate'] == '2023-01-14'].to_numpy()\n",
    "datas"
   ]
  },
  {
   "cell_type": "code",
   "execution_count": 23,
   "metadata": {},
   "outputs": [],
   "source": [
    "def sub_time(start_time, end_time) -> float:\n",
    "    _start_time = start_time.split(':')\n",
    "    start_hour = _start_time[0]\n",
    "    start_min = _start_time[1]\n",
    "    start_sec = _start_time[2]\n",
    "\n",
    "    _end_time = end_time.split(':')\n",
    "    end_hour = _end_time[0]\n",
    "    end_min = _end_time[1]\n",
    "    end_sec = _end_time[2]\n",
    "\n",
    "    time_duration = (end_hour - start_hour) + (end_min - start_min) / 60 + (end_sec - end_sec) / 60*60\n",
    "    return '{:.2f}'.format(time_duration)"
   ]
  },
  {
   "cell_type": "code",
   "execution_count": 24,
   "metadata": {},
   "outputs": [
    {
     "ename": "TypeError",
     "evalue": "unsupported operand type(s) for -: 'str' and 'str'",
     "output_type": "error",
     "traceback": [
      "\u001b[1;31m---------------------------------------------------------------------------\u001b[0m",
      "\u001b[1;31mTypeError\u001b[0m                                 Traceback (most recent call last)",
      "Cell \u001b[1;32mIn[24], line 1\u001b[0m\n\u001b[1;32m----> 1\u001b[0m \u001b[38;5;28mprint\u001b[39m(\u001b[43msub_time\u001b[49m\u001b[43m(\u001b[49m\u001b[43mdatas\u001b[49m\u001b[43m[\u001b[49m\u001b[38;5;241;43m0\u001b[39;49m\u001b[43m]\u001b[49m\u001b[43m[\u001b[49m\u001b[38;5;241;43m-\u001b[39;49m\u001b[38;5;241;43m2\u001b[39;49m\u001b[43m]\u001b[49m\u001b[43m,\u001b[49m\u001b[43m \u001b[49m\u001b[43mdatas\u001b[49m\u001b[43m[\u001b[49m\u001b[38;5;241;43m0\u001b[39;49m\u001b[43m]\u001b[49m\u001b[43m[\u001b[49m\u001b[38;5;241;43m-\u001b[39;49m\u001b[38;5;241;43m1\u001b[39;49m\u001b[43m]\u001b[49m\u001b[43m)\u001b[49m)\n",
      "Cell \u001b[1;32mIn[23], line 12\u001b[0m, in \u001b[0;36msub_time\u001b[1;34m(start_time, end_time)\u001b[0m\n\u001b[0;32m      9\u001b[0m end_min \u001b[38;5;241m=\u001b[39m _end_time[\u001b[38;5;241m1\u001b[39m]\n\u001b[0;32m     10\u001b[0m end_sec \u001b[38;5;241m=\u001b[39m _end_time[\u001b[38;5;241m2\u001b[39m]\n\u001b[1;32m---> 12\u001b[0m time_duration \u001b[38;5;241m=\u001b[39m (\u001b[43mend_hour\u001b[49m\u001b[43m \u001b[49m\u001b[38;5;241;43m-\u001b[39;49m\u001b[43m \u001b[49m\u001b[43mstart_hour\u001b[49m) \u001b[38;5;241m+\u001b[39m (end_min \u001b[38;5;241m-\u001b[39m start_min) \u001b[38;5;241m/\u001b[39m \u001b[38;5;241m60\u001b[39m \u001b[38;5;241m+\u001b[39m (end_sec \u001b[38;5;241m-\u001b[39m end_sec) \u001b[38;5;241m/\u001b[39m \u001b[38;5;241m60\u001b[39m\u001b[38;5;241m*\u001b[39m\u001b[38;5;241m60\u001b[39m\n\u001b[0;32m     13\u001b[0m \u001b[38;5;28;01mreturn\u001b[39;00m \u001b[38;5;124m'\u001b[39m\u001b[38;5;132;01m{:.2f}\u001b[39;00m\u001b[38;5;124m'\u001b[39m\u001b[38;5;241m.\u001b[39mformat(time_duration)\n",
      "\u001b[1;31mTypeError\u001b[0m: unsupported operand type(s) for -: 'str' and 'str'"
     ]
    }
   ],
   "source": [
    "print(sub_time(datas[0][-2], datas[0][-1]))"
   ]
  },
  {
   "cell_type": "code",
   "execution_count": 25,
   "metadata": {},
   "outputs": [
    {
     "ename": "NameError",
     "evalue": "name 'data' is not defined",
     "output_type": "error",
     "traceback": [
      "\u001b[1;31m---------------------------------------------------------------------------\u001b[0m",
      "\u001b[1;31mNameError\u001b[0m                                 Traceback (most recent call last)",
      "Cell \u001b[1;32mIn[25], line 1\u001b[0m\n\u001b[1;32m----> 1\u001b[0m \u001b[43mdata\u001b[49m\n",
      "\u001b[1;31mNameError\u001b[0m: name 'data' is not defined"
     ]
    }
   ],
   "source": [
    "data"
   ]
  },
  {
   "cell_type": "code",
   "execution_count": null,
   "metadata": {},
   "outputs": [],
   "source": []
  }
 ],
 "metadata": {
  "kernelspec": {
   "display_name": "Python 3.8.15 ('WORK')",
   "language": "python",
   "name": "python3"
  },
  "language_info": {
   "codemirror_mode": {
    "name": "ipython",
    "version": 3
   },
   "file_extension": ".py",
   "mimetype": "text/x-python",
   "name": "python",
   "nbconvert_exporter": "python",
   "pygments_lexer": "ipython3",
   "version": "3.8.15"
  },
  "orig_nbformat": 4,
  "vscode": {
   "interpreter": {
    "hash": "ad78ce0b1ddd4c9c884f1fc19f4052607fc2d691938d929d135def07d2021876"
   }
  }
 },
 "nbformat": 4,
 "nbformat_minor": 2
}
